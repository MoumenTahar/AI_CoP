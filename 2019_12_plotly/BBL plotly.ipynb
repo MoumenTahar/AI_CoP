{
 "cells": [
  {
   "cell_type": "code",
   "execution_count": null,
   "metadata": {
    "slideshow": {
     "slide_type": "notes"
    }
   },
   "outputs": [],
   "source": [
    "import plotly.offline as pyo\n",
    "import plotly.graph_objs as go\n",
    "pyo.init_notebook_mode()\n",
    "\n",
    "from IPython.display import IFrame\n",
    "import pandas as pd\n",
    "import numpy as np\n",
    "import math\n",
    "\n",
    "from PIL import Image"
   ]
  },
  {
   "cell_type": "markdown",
   "metadata": {
    "slideshow": {
     "slide_type": "slide"
    }
   },
   "source": [
    "# BBL : Plotly \n",
    "\n",
    "Presenter: F. Torregrossa"
   ]
  },
  {
   "cell_type": "markdown",
   "metadata": {
    "slideshow": {
     "slide_type": "slide"
    }
   },
   "source": [
    "## What is plotly ?\n",
    "\n",
    "A company selling:\n",
    "* Tool to create dashboards\n",
    "* Cloud to store your plots\n",
    "* Consulting (how to use plotly with your data)\n",
    "\n",
    "A python package\n",
    "```\n",
    "pip install plotly\n",
    "```\n",
    "\n",
    "Draw plots online (cloud storage) or offline **(private usage)**."
   ]
  },
  {
   "cell_type": "markdown",
   "metadata": {
    "slideshow": {
     "slide_type": "subslide"
    }
   },
   "source": [
    "## Why plotly is a good tool ?\n",
    "\n",
    "Because :\n",
    "* Object-oriented approach\n",
    "* Consider three main objects: Data / Figure / Layout\n",
    "* Do automatic preprocessing of your data\n",
    "* Interactive and responsive\n",
    "* Doc is well written / Loads of examples\n",
    "\n",
    "## Why not using old good matplotlib ?\n",
    "\n",
    "Because :\n",
    "* No preprocessing\n",
    "* Not responsive\n",
    "* Complicated to dive into your data"
   ]
  },
  {
   "cell_type": "markdown",
   "metadata": {
    "slideshow": {
     "slide_type": "subslide"
    }
   },
   "source": [
    "## How to use plotly ?\n",
    "\n",
    "### In a notebook\n",
    "\n",
    "```python\n",
    "import plotly.offline as pyo\n",
    "import plotly.graph_objs as go\n",
    "pyo.init_notebook_mode()\n",
    "\n",
    "pyo.iplot(MY_FIGURE)\n",
    "# OU\n",
    "MY_FIGURE.show()\n",
    "```\n",
    "\n",
    "### In a scripts\n",
    "\n",
    "```python\n",
    "import plotly.offline as pyo\n",
    "import plotly.graph_objs as go\n",
    "\n",
    "## DYNAMIC PLOT\n",
    "pyo.plot(MY_FIGURE)\n",
    "\n",
    "## STATIC EXPORT\n",
    "MY_FIGURE.write_image('path/to/filename.[svg,jpg,png,pdf]')\n",
    "```\n",
    "\n",
    "### Plotly express\n",
    "\n",
    "* Faster way to plot data\n",
    "* Less manageable"
   ]
  },
  {
   "cell_type": "markdown",
   "metadata": {
    "slideshow": {
     "slide_type": "slide"
    }
   },
   "source": [
    "## Covered use-cases\n",
    "\n",
    "* Plot datapoints / distribution\n",
    "* Draw functions\n",
    "* Draw Graphs \n",
    "* 2D / 3D Representations (Images, Surface)\n",
    "* Animationns"
   ]
  },
  {
   "cell_type": "markdown",
   "metadata": {
    "slideshow": {
     "slide_type": "subslide"
    }
   },
   "source": [
    "### Representing a distribution\n",
    "(source https://plot.ly/python/2D-Histogram/)"
   ]
  },
  {
   "cell_type": "code",
   "execution_count": null,
   "metadata": {
    "slideshow": {
     "slide_type": "-"
    }
   },
   "outputs": [],
   "source": [
    "data = pd.read_csv('resources/data/gauss1.csv', header=None)\n",
    "data.head(5)"
   ]
  },
  {
   "cell_type": "code",
   "execution_count": null,
   "metadata": {
    "slideshow": {
     "slide_type": "-"
    }
   },
   "outputs": [],
   "source": [
    "data.describe()"
   ]
  },
  {
   "cell_type": "markdown",
   "metadata": {
    "slideshow": {
     "slide_type": "subslide"
    }
   },
   "source": [
    "#### A Scatter plot"
   ]
  },
  {
   "cell_type": "code",
   "execution_count": null,
   "metadata": {
    "slideshow": {
     "slide_type": "-"
    }
   },
   "outputs": [],
   "source": [
    "fig = go.Figure([\n",
    "    go.Scatter(\n",
    "        x = data.iloc[::10, 0],\n",
    "        y = data.iloc[::10, 1],\n",
    "        mode = 'markers'\n",
    "    )], layout=go.Layout(width=800)\n",
    ")"
   ]
  },
  {
   "cell_type": "code",
   "execution_count": null,
   "metadata": {
    "slideshow": {
     "slide_type": "subslide"
    }
   },
   "outputs": [],
   "source": [
    "fig.show()"
   ]
  },
  {
   "cell_type": "markdown",
   "metadata": {
    "slideshow": {
     "slide_type": "subslide"
    }
   },
   "source": [
    "#### 2D Histogram\n",
    "Count repartition in the space"
   ]
  },
  {
   "cell_type": "code",
   "execution_count": null,
   "metadata": {
    "slideshow": {
     "slide_type": "-"
    }
   },
   "outputs": [],
   "source": [
    "fig = go.Figure([\n",
    "    go.Histogram2d(\n",
    "        x = data.iloc[:, 0],\n",
    "        y = data.iloc[:, 1]\n",
    "    )\n",
    "], layout=go.Layout(width=800))"
   ]
  },
  {
   "cell_type": "code",
   "execution_count": null,
   "metadata": {
    "slideshow": {
     "slide_type": "subslide"
    }
   },
   "outputs": [],
   "source": [
    "fig.show()"
   ]
  },
  {
   "cell_type": "code",
   "execution_count": null,
   "metadata": {
    "slideshow": {
     "slide_type": "subslide"
    }
   },
   "outputs": [],
   "source": [
    "## Bins scale automatically\n",
    "fig = go.Figure([\n",
    "    go.Histogram2d(\n",
    "        x = data.iloc[::100, 0],\n",
    "        y = data.iloc[::100, 1]\n",
    "    )\n",
    "], layout=go.Layout(width=800))"
   ]
  },
  {
   "cell_type": "code",
   "execution_count": null,
   "metadata": {
    "slideshow": {
     "slide_type": "subslide"
    }
   },
   "outputs": [],
   "source": [
    "fig.show()"
   ]
  },
  {
   "cell_type": "markdown",
   "metadata": {
    "slideshow": {
     "slide_type": "subslide"
    }
   },
   "source": [
    "#### Contours "
   ]
  },
  {
   "cell_type": "code",
   "execution_count": null,
   "metadata": {
    "slideshow": {
     "slide_type": "-"
    }
   },
   "outputs": [],
   "source": [
    "fig = go.Figure([\n",
    "    go.Histogram2dContour(\n",
    "        x = data.iloc[:, 0],\n",
    "        y = data.iloc[:, 1]\n",
    "    )\n",
    "], layout=go.Layout(width=800))"
   ]
  },
  {
   "cell_type": "code",
   "execution_count": null,
   "metadata": {
    "slideshow": {
     "slide_type": "subslide"
    }
   },
   "outputs": [],
   "source": [
    "fig.show()"
   ]
  },
  {
   "cell_type": "markdown",
   "metadata": {
    "slideshow": {
     "slide_type": "subslide"
    }
   },
   "source": [
    "#### Can we combine ?"
   ]
  },
  {
   "cell_type": "code",
   "execution_count": null,
   "metadata": {
    "slideshow": {
     "slide_type": "-"
    }
   },
   "outputs": [],
   "source": [
    "fig = go.Figure([\n",
    "    go.Histogram2dContour(\n",
    "        x = data.iloc[:, 0],\n",
    "        y = data.iloc[:, 1]\n",
    "    ), go.Scatter(\n",
    "        x = data.iloc[2::10, 0],\n",
    "        y = data.iloc[2::10, 1],\n",
    "        mode = 'markers',\n",
    "        marker=dict(size=2, color='rgba(0, 0, 0, 0.5)')\n",
    "    )\n",
    "], layout=go.Layout(width=800))"
   ]
  },
  {
   "cell_type": "code",
   "execution_count": null,
   "metadata": {
    "slideshow": {
     "slide_type": "subslide"
    }
   },
   "outputs": [],
   "source": [
    "fig.show()"
   ]
  },
  {
   "cell_type": "markdown",
   "metadata": {
    "slideshow": {
     "slide_type": "subslide"
    }
   },
   "source": [
    "#### Histogram 1D ?"
   ]
  },
  {
   "cell_type": "code",
   "execution_count": null,
   "metadata": {
    "slideshow": {
     "slide_type": "-"
    }
   },
   "outputs": [],
   "source": [
    "fig = go.Figure([\n",
    "    go.Histogram(\n",
    "        x = data.iloc[:, 0],\n",
    "        opacity = 0.75,\n",
    "        name = 'Dimension 1'\n",
    "    ), go.Histogram(\n",
    "        x = data.iloc[:, 1],\n",
    "        opacity = 0.75,\n",
    "        name = 'Dimension 2'\n",
    "        \n",
    "    )\n",
    "], layout=go.Layout(width=800))"
   ]
  },
  {
   "cell_type": "code",
   "execution_count": null,
   "metadata": {
    "slideshow": {
     "slide_type": "subslide"
    }
   },
   "outputs": [],
   "source": [
    "fig.show()"
   ]
  },
  {
   "cell_type": "code",
   "execution_count": null,
   "metadata": {
    "slideshow": {
     "slide_type": "subslide"
    }
   },
   "outputs": [],
   "source": [
    "fig = go.Figure([\n",
    "    go.Histogram2dContour(\n",
    "        x = data.iloc[:, 0],\n",
    "        y = data.iloc[:, 1]\n",
    "    ), go.Scatter(\n",
    "        x = data.iloc[2::10, 0],\n",
    "        y = data.iloc[2::10, 1],\n",
    "        mode = 'markers',\n",
    "        marker=dict(size=2, color='rgba(0, 0, 0, 0.5)')\n",
    "    ), go.Histogram(\n",
    "        x = data.iloc[:, 0],\n",
    "        yaxis = 'y2',\n",
    "    ), go.Histogram(\n",
    "        y = data.iloc[:, 1],\n",
    "        xaxis='x2',\n",
    "        \n",
    "    )\n",
    "], layout = go.Layout(\n",
    "    autosize = False,\n",
    "    xaxis = dict(\n",
    "        zeroline = False,\n",
    "        domain = [0,0.85],\n",
    "        showgrid = False\n",
    "    ),\n",
    "    yaxis = dict(\n",
    "        zeroline = False,\n",
    "        domain = [0,0.85],\n",
    "        showgrid = False\n",
    "    ),\n",
    "    xaxis2 = dict(\n",
    "        zeroline = False,\n",
    "        domain = [0.85,1],\n",
    "        showgrid = False\n",
    "    ),\n",
    "    yaxis2 = dict(\n",
    "        zeroline = False,\n",
    "        domain = [0.85,1],\n",
    "        showgrid = False\n",
    "    ),\n",
    "    bargap = 0,\n",
    "    width = 800,\n",
    "    hovermode = 'closest',\n",
    "    showlegend = False\n",
    "))"
   ]
  },
  {
   "cell_type": "code",
   "execution_count": null,
   "metadata": {
    "slideshow": {
     "slide_type": "subslide"
    }
   },
   "outputs": [],
   "source": [
    "fig.show()"
   ]
  },
  {
   "cell_type": "markdown",
   "metadata": {
    "slideshow": {
     "slide_type": "slide"
    }
   },
   "source": [
    "### Draw functions"
   ]
  },
  {
   "cell_type": "code",
   "execution_count": null,
   "metadata": {
    "slideshow": {
     "slide_type": "-"
    }
   },
   "outputs": [],
   "source": [
    "fig = go.Figure([\n",
    "    go.Scatter(\n",
    "        x = [0, 1, 2, 3, 4],\n",
    "        y = [0, 1, 4, 9, 16],\n",
    "        mode='markers+lines',\n",
    "        name = \"f\",\n",
    "        showlegend = True\n",
    "    ),\n",
    "], layout = go.Layout(\n",
    "    xaxis = dict(   \n",
    "        title='$x$'\n",
    "    ),\n",
    "    yaxis = dict(\n",
    "        title='$x^2$'\n",
    "    ),\n",
    "    title = dict(\n",
    "        x=0.5,\n",
    "        text=r\"$f(x) = x^2$\"\n",
    "    ),\n",
    "    width=800\n",
    "))"
   ]
  },
  {
   "cell_type": "code",
   "execution_count": null,
   "metadata": {
    "slideshow": {
     "slide_type": "subslide"
    }
   },
   "outputs": [],
   "source": [
    "fig.show()"
   ]
  },
  {
   "cell_type": "code",
   "execution_count": null,
   "metadata": {
    "slideshow": {
     "slide_type": "subslide"
    }
   },
   "outputs": [],
   "source": [
    "fig = go.Figure(\n",
    "    data=go.Scatter(\n",
    "        x = np.linspace(-math.pi, math.pi, 1000),\n",
    "        y = np.cos(np.linspace(- math.pi, math.pi, 1000)),\n",
    "        mode='lines',\n",
    "        name = 'f',\n",
    "        showlegend = True\n",
    "    ),\n",
    "    layout = go.Layout(\n",
    "        xaxis = dict(   \n",
    "            title='$x$'\n",
    "        ),\n",
    "        yaxis = dict(\n",
    "            title='$cos(x)$'\n",
    "        ),\n",
    "        title = dict(\n",
    "            x=0.5,\n",
    "            text=r\"$f(x) = cos(x)$\"\n",
    "        ),\n",
    "        width=800\n",
    "    )\n",
    ")"
   ]
  },
  {
   "cell_type": "code",
   "execution_count": null,
   "metadata": {
    "slideshow": {
     "slide_type": "subslide"
    }
   },
   "outputs": [],
   "source": [
    "fig.show()"
   ]
  },
  {
   "cell_type": "code",
   "execution_count": null,
   "metadata": {
    "slideshow": {
     "slide_type": "subslide"
    }
   },
   "outputs": [],
   "source": [
    "fig = go.Figure(\n",
    "    data=[\n",
    "        go.Scatter(\n",
    "            x = np.linspace(-math.pi, math.pi, 1000),\n",
    "            y = f[1](np.linspace(- math.pi, math.pi, 1000)),\n",
    "            mode='lines',\n",
    "            name = f[0],\n",
    "            showlegend = True\n",
    "    ) for f in [\n",
    "            (r'$\\mathrm{cos}(x)$', np.cos),\n",
    "            (r'$\\mathrm{sin}(x)$', np.sin),\n",
    "            (r'$\\mathrm{cos}(x-\\frac{\\pi}{4})$', lambda x: np.cos(x - math.pi / 4))\n",
    "        ]\n",
    "    ], layout = go.Layout(\n",
    "    xaxis = dict(   \n",
    "        title='$x$'\n",
    "    ),\n",
    "    yaxis = dict(\n",
    "        title='$f(x)$'\n",
    "    ),\n",
    "    width = 800\n",
    "))"
   ]
  },
  {
   "cell_type": "code",
   "execution_count": null,
   "metadata": {
    "slideshow": {
     "slide_type": "subslide"
    }
   },
   "outputs": [],
   "source": [
    "fig.show()"
   ]
  },
  {
   "cell_type": "markdown",
   "metadata": {
    "slideshow": {
     "slide_type": "slide"
    }
   },
   "source": [
    "### Draw graphs\n",
    "#### Example : Multiplication tables (from Micmaths https://www.youtube.com/watch?v=-X49VQgi86E)"
   ]
  },
  {
   "cell_type": "code",
   "execution_count": null,
   "metadata": {
    "slideshow": {
     "slide_type": "subslide"
    }
   },
   "outputs": [],
   "source": [
    "IFrame(src='resources/figure/table2mod50.html', width=700, height=750)"
   ]
  },
  {
   "cell_type": "markdown",
   "metadata": {
    "slideshow": {
     "slide_type": "subslide"
    }
   },
   "source": [
    "#### Build simple blocks"
   ]
  },
  {
   "cell_type": "code",
   "execution_count": null,
   "metadata": {
    "slideshow": {
     "slide_type": "-"
    }
   },
   "outputs": [],
   "source": [
    "## Draw a circle\n",
    "\n",
    "def go_circle(r, n=1000):\n",
    "    return go.Scatter(\n",
    "        x = r * np.cos(np.linspace(0, 2 * math.pi, n)),\n",
    "        y = r * np.sin(np.linspace(0, 2 * math.pi, n)),\n",
    "        line = dict(color='black'),\n",
    "        showlegend=False\n",
    "    )"
   ]
  },
  {
   "cell_type": "code",
   "execution_count": null,
   "metadata": {
    "slideshow": {
     "slide_type": "subslide"
    }
   },
   "outputs": [],
   "source": [
    "fig = go.Figure([\n",
    "    go_circle(1)\n",
    "], layout=go.Layout(width=800))\n",
    "fig.show()"
   ]
  },
  {
   "cell_type": "code",
   "execution_count": null,
   "metadata": {
    "slideshow": {
     "slide_type": "subslide"
    }
   },
   "outputs": [],
   "source": [
    "## Better layout\n",
    "def nice_layout():\n",
    "    return go.Layout(\n",
    "        plot_bgcolor='white',\n",
    "        width=800,\n",
    "        yaxis=dict(\n",
    "            scaleanchor=\"x\",\n",
    "            scaleratio=1,\n",
    "            showgrid=False,\n",
    "            zeroline=False,\n",
    "            showticklabels=False\n",
    "        ), xaxis=dict(\n",
    "            showgrid=False,\n",
    "            zeroline=False,\n",
    "            showticklabels=False\n",
    "        )\n",
    "    )"
   ]
  },
  {
   "cell_type": "code",
   "execution_count": null,
   "metadata": {
    "slideshow": {
     "slide_type": "subslide"
    }
   },
   "outputs": [],
   "source": [
    "fig = go.Figure([\n",
    "    go_circle(1)\n",
    "], layout=nice_layout())\n",
    "fig.show()"
   ]
  },
  {
   "cell_type": "code",
   "execution_count": null,
   "metadata": {
    "slideshow": {
     "slide_type": "subslide"
    }
   },
   "outputs": [],
   "source": [
    "## Set homogeneously dots on circle\n",
    "\n",
    "def tickpos(n):\n",
    "    return [2 * math.pi * k / n for k in range(n)]\n",
    "\n",
    "def go_dots(N, r=1):\n",
    "    return go.Scatter(\n",
    "        x = r * np.cos(tickpos(N)),\n",
    "        y = r * np.sin(tickpos(N)),\n",
    "        text = list(map(str, range(N))),\n",
    "        mode = \"markers\",\n",
    "        showlegend=False\n",
    "    )"
   ]
  },
  {
   "cell_type": "code",
   "execution_count": null,
   "metadata": {
    "slideshow": {
     "slide_type": "subslide"
    }
   },
   "outputs": [],
   "source": [
    "fig = go.Figure([\n",
    "    go_circle(1),\n",
    "    go_dots(50)\n",
    "], layout=nice_layout())\n",
    "fig.show()"
   ]
  },
  {
   "cell_type": "code",
   "execution_count": null,
   "metadata": {
    "slideshow": {
     "slide_type": "subslide"
    }
   },
   "outputs": [],
   "source": [
    "## Draw edges\n",
    "\n",
    "def table(p, n):\n",
    "    return [\n",
    "        (\n",
    "            2 * math.pi * x / n,\n",
    "             2 * math.pi * int((x * p) % n) / n\n",
    "        ) for x in range(n)]\n",
    "\n",
    "def go_lines(p, n, r=1, showlegend=True, color='rgba(0,0,0,0.25)'):\n",
    "    return go.Scatter(\n",
    "        x = sum([[r * np.cos(x[0]), r * np.cos(x[1]), None] for x in table(p, n)], []),\n",
    "        y = sum([[r * np.sin(x[0]), r * np.sin(x[1]), None] for x in table(p, n)], []),\n",
    "        mode = 'lines',\n",
    "        name='%.2f mod %d' % (p, n),\n",
    "        showlegend=showlegend,\n",
    "        line=dict(width=1, color=color)\n",
    "    )"
   ]
  },
  {
   "cell_type": "code",
   "execution_count": null,
   "metadata": {
    "slideshow": {
     "slide_type": "subslide"
    }
   },
   "outputs": [],
   "source": [
    "fig = go.Figure([\n",
    "    go_circle(1),\n",
    "    go_dots(50),\n",
    "    go_lines(2, 50)\n",
    "], layout=nice_layout())\n",
    "fig.show()"
   ]
  },
  {
   "cell_type": "code",
   "execution_count": null,
   "metadata": {
    "slideshow": {
     "slide_type": "subslide"
    }
   },
   "outputs": [],
   "source": [
    "IFrame(src='resources/figure/wn-musical.html', width=600, height=800)"
   ]
  },
  {
   "cell_type": "markdown",
   "metadata": {
    "slideshow": {
     "slide_type": "slide"
    }
   },
   "source": [
    "### 2D / 3D Representations (Images, Surface)"
   ]
  },
  {
   "cell_type": "code",
   "execution_count": null,
   "metadata": {
    "slideshow": {
     "slide_type": "subslide"
    }
   },
   "outputs": [],
   "source": [
    "im = Image.open( 'resources/figure/flower.jpg' )\n",
    "r, g, b = im.split()"
   ]
  },
  {
   "cell_type": "code",
   "execution_count": null,
   "metadata": {
    "slideshow": {
     "slide_type": "-"
    }
   },
   "outputs": [],
   "source": [
    "fig = go.Figure(\n",
    "    go.Heatmap(\n",
    "        z = np.mean(np.array(im.getdata()), axis=1).reshape((im.size[1], im.size[0]))[::-1],\n",
    "        colorscale='gray'\n",
    "    ),\n",
    "    layout=nice_layout()\n",
    ")"
   ]
  },
  {
   "cell_type": "code",
   "execution_count": null,
   "metadata": {
    "slideshow": {
     "slide_type": "subslide"
    }
   },
   "outputs": [],
   "source": [
    "fig.show()"
   ]
  },
  {
   "cell_type": "code",
   "execution_count": null,
   "metadata": {
    "slideshow": {
     "slide_type": "subslide"
    }
   },
   "outputs": [],
   "source": [
    "fig = go.Figure(\n",
    "    go.Heatmap(\n",
    "        z = np.mean(np.array(im.getdata()), axis=1).reshape((im.size[1], im.size[0]))[::-10, ::10],\n",
    "        colorscale='gray'\n",
    "    ),\n",
    "    layout=nice_layout()\n",
    ")"
   ]
  },
  {
   "cell_type": "code",
   "execution_count": null,
   "metadata": {},
   "outputs": [],
   "source": [
    "fig.show()"
   ]
  },
  {
   "cell_type": "code",
   "execution_count": null,
   "metadata": {
    "slideshow": {
     "slide_type": "subslide"
    }
   },
   "outputs": [],
   "source": [
    "df = pd.read_csv('resources/data/gauss2.csv', header=None)\n",
    "fig = go.Figure(\n",
    "    go.Scatter3d(\n",
    "        x = df.iloc[::10, 0],\n",
    "        y = df.iloc[::10, 1],\n",
    "        z = df.iloc[::10, 2],\n",
    "        mode = 'markers',\n",
    "        marker = dict(size=4)\n",
    "    ),\n",
    "    layout=nice_layout()\n",
    ")"
   ]
  },
  {
   "cell_type": "code",
   "execution_count": null,
   "metadata": {},
   "outputs": [],
   "source": [
    "fig.show()"
   ]
  },
  {
   "cell_type": "code",
   "execution_count": null,
   "metadata": {
    "slideshow": {
     "slide_type": "subslide"
    }
   },
   "outputs": [],
   "source": [
    "def helicoide(h, r, n=1000):\n",
    "    return (\n",
    "        r * np.cos(np.linspace(0, 10, n)),\n",
    "        r * np.sin(np.linspace(0, 10, n)),\n",
    "        h * np.linspace(0, 10, n)\n",
    "    )"
   ]
  },
  {
   "cell_type": "code",
   "execution_count": null,
   "metadata": {
    "slideshow": {
     "slide_type": "subslide"
    }
   },
   "outputs": [],
   "source": [
    "X, Y, Z = helicoide(1, 1, n=100)\n",
    "fig = go.Figure(\n",
    "    go.Scatter3d(\n",
    "        x = X,\n",
    "        y = Y,\n",
    "        z = Z,\n",
    "        mode = 'markers',\n",
    "        marker = dict(size=4)\n",
    "    ),\n",
    "    layout=nice_layout()\n",
    ")"
   ]
  },
  {
   "cell_type": "code",
   "execution_count": null,
   "metadata": {},
   "outputs": [],
   "source": [
    "fig.show()"
   ]
  },
  {
   "cell_type": "code",
   "execution_count": null,
   "metadata": {
    "slideshow": {
     "slide_type": "subslide"
    }
   },
   "outputs": [],
   "source": [
    "def f(x, y):\n",
    "    return np.cos(x)  + y ** 2\n",
    "\n",
    "X = np.linspace(-math.pi, math.pi, 1000)\n",
    "Y = np.linspace(-1, 1, 1000)\n",
    "\n",
    "Z = np.zeros((1000, 1000))\n",
    "for i, x in enumerate(X):\n",
    "    for j, y in enumerate(Y):\n",
    "        Z[i, j] = f(x, y)"
   ]
  },
  {
   "cell_type": "code",
   "execution_count": null,
   "metadata": {
    "slideshow": {
     "slide_type": "subslide"
    }
   },
   "outputs": [],
   "source": [
    "fig = go.Figure(\n",
    "    go.Surface(\n",
    "        z=Z,\n",
    "        x=X,\n",
    "        y=Y\n",
    "    ),\n",
    "    layout=nice_layout()\n",
    ")"
   ]
  },
  {
   "cell_type": "code",
   "execution_count": null,
   "metadata": {
    "slideshow": {
     "slide_type": "-"
    }
   },
   "outputs": [],
   "source": [
    "fig.show()"
   ]
  },
  {
   "cell_type": "code",
   "execution_count": null,
   "metadata": {
    "slideshow": {
     "slide_type": "subslide"
    }
   },
   "outputs": [],
   "source": [
    "fig = go.Figure(\n",
    "    go.Contour(\n",
    "        z=Z,\n",
    "        x=X,\n",
    "        y=Y,\n",
    "    ),\n",
    "    layout=go.Layout(width=800)\n",
    ")"
   ]
  },
  {
   "cell_type": "code",
   "execution_count": null,
   "metadata": {
    "slideshow": {
     "slide_type": "subslide"
    }
   },
   "outputs": [],
   "source": [
    "fig.show()"
   ]
  },
  {
   "cell_type": "code",
   "execution_count": null,
   "metadata": {},
   "outputs": [],
   "source": [
    "X, Y = np.meshgrid(X, Y)\n",
    "fig = go.Figure([\n",
    "    go.Scatter3d(\n",
    "        x = X[:, i], \n",
    "        y =  Y[:, i], \n",
    "        z = Z[:, i],\n",
    "        mode = 'lines',\n",
    "        line = dict(color='blue'),\n",
    "        showlegend=False,\n",
    "        marker = dict(size=4)\n",
    "    ) for i in range(0, X.shape[1], 20)] + [\n",
    "        go.Scatter3d(\n",
    "            x = X[i, :], \n",
    "            y =  Y[i, :], \n",
    "            z = Z[i, :],\n",
    "            mode = 'lines',\n",
    "            line = dict(color='blue'),\n",
    "            showlegend=False,\n",
    "            marker = dict(size=4)\n",
    "    ) for i in range(0, X.shape[1], 20)],\n",
    "    layout=nice_layout()\n",
    ")"
   ]
  },
  {
   "cell_type": "code",
   "execution_count": null,
   "metadata": {},
   "outputs": [],
   "source": [
    "fig.show()"
   ]
  },
  {
   "cell_type": "markdown",
   "metadata": {
    "slideshow": {
     "slide_type": "slide"
    }
   },
   "source": [
    "### Animations"
   ]
  },
  {
   "cell_type": "code",
   "execution_count": null,
   "metadata": {
    "slideshow": {
     "slide_type": "notes"
    }
   },
   "outputs": [],
   "source": [
    "\"\"\"\n",
    "N = 200\n",
    "nframes = 500\n",
    "fig = go.Figure(\n",
    "    data = [\n",
    "        go_lines(2, N, showlegend=False),\n",
    "        go_circle(1),\n",
    "    ],\n",
    "    layout = go.Layout(\n",
    "        plot_bgcolor='white',\n",
    "        width=700,\n",
    "        yaxis=dict(\n",
    "            scaleanchor=\"x\",\n",
    "            scaleratio=1,\n",
    "            showgrid=False,\n",
    "            zeroline=False,\n",
    "            showticklabels=False\n",
    "        ), xaxis=dict(\n",
    "            showgrid=False,\n",
    "            zeroline=False,\n",
    "            showticklabels=False\n",
    "        ),\n",
    "        updatemenus=[dict(\n",
    "            type=\"buttons\",\n",
    "            buttons=[\n",
    "                dict(\n",
    "                    label=\"Play\",\n",
    "                    method=\"animate\",\n",
    "                    args=[None, {\n",
    "                        \"frame\": {\n",
    "                            \"duration\": 10,\n",
    "                            \"redraw\": False\n",
    "                        },\n",
    "                        \"fromcurrent\": True,\n",
    "                        \"transition\": {\n",
    "                            \"duration\": 0,\n",
    "                            \"easing\": None\n",
    "                        }\n",
    "                    }]\n",
    "                )\n",
    "            ]\n",
    "        )]\n",
    "    ),\n",
    "    frames = [\n",
    "        go.Frame(\n",
    "            data=[go_lines(x, N, showlegend=False)], name=\"%.2f mod %d\" % (x, N) \n",
    "        ) for x in np.linspace(2, 10, nframes)\n",
    "    ]\n",
    ")\n",
    "\"\"\""
   ]
  },
  {
   "cell_type": "code",
   "execution_count": null,
   "metadata": {
    "slideshow": {
     "slide_type": "-"
    }
   },
   "outputs": [],
   "source": [
    "\"\"\"\n",
    "fig = go.Figure(\n",
    "    data = [\n",
    "        go_lines(2, N, showlegend=False),\n",
    "        go_circle(1),\n",
    "    ],\n",
    "    frames = [\n",
    "        go.Frame(\n",
    "            data=[go_lines(x, N, showlegend=False)], name=\"%.2f mod %d\" % (x, N) \n",
    "        ) for x in np.linspace(2, 10, nframes)\n",
    "    ]\n",
    ")\n",
    "\"\"\""
   ]
  },
  {
   "cell_type": "code",
   "execution_count": null,
   "metadata": {
    "slideshow": {
     "slide_type": "subslide"
    }
   },
   "outputs": [],
   "source": [
    "#fig.show()"
   ]
  },
  {
   "cell_type": "code",
   "execution_count": null,
   "metadata": {
    "slideshow": {
     "slide_type": "notes"
    }
   },
   "outputs": [],
   "source": [
    "\"\"\"\n",
    "N = 1000\n",
    "p = 350\n",
    "nframes = 500\n",
    "fig = go.Figure(\n",
    "    data = [\n",
    "        go_lines(p, N, showlegend=False),\n",
    "        go_circle(1),\n",
    "    ],\n",
    "    layout = go.Layout(\n",
    "        plot_bgcolor='white',\n",
    "        width=700,\n",
    "        yaxis=dict(\n",
    "            scaleanchor=\"x\",\n",
    "            scaleratio=1,\n",
    "            showgrid=False,\n",
    "            zeroline=False,\n",
    "            showticklabels=False\n",
    "        ), xaxis=dict(\n",
    "            showgrid=False,\n",
    "            zeroline=False,\n",
    "            showticklabels=False\n",
    "        ),\n",
    "        updatemenus=[dict(\n",
    "            type=\"buttons\",\n",
    "            buttons=[\n",
    "                dict(\n",
    "                    label=\"Play\",\n",
    "                    method=\"animate\",\n",
    "                    args=[None, {\n",
    "                        \"frame\": {\n",
    "                            \"duration\": 10,\n",
    "                            \"redraw\": False\n",
    "                        },\n",
    "                        \"fromcurrent\": True,\n",
    "                        \"transition\": {\n",
    "                            \"duration\": 0,\n",
    "                            \"easing\": None\n",
    "                        }\n",
    "                    }]\n",
    "                )\n",
    "            ]\n",
    "        )]\n",
    "    ),\n",
    "    frames = [\n",
    "        go.Frame(\n",
    "            data=[go_lines(x, N, showlegend=False)], name=\"%.2f mod %d\" % (x, N) \n",
    "        ) for x in np.linspace(p, p + 20, nframes)\n",
    "    ]\n",
    ")\n",
    "\"\"\""
   ]
  },
  {
   "cell_type": "code",
   "execution_count": null,
   "metadata": {
    "slideshow": {
     "slide_type": "subslide"
    }
   },
   "outputs": [],
   "source": [
    "#fig.show()"
   ]
  },
  {
   "cell_type": "code",
   "execution_count": null,
   "metadata": {},
   "outputs": [],
   "source": []
  }
 ],
 "metadata": {
  "celltoolbar": "Diaporama",
  "kernelspec": {
   "display_name": "Python 3",
   "language": "python",
   "name": "python3"
  },
  "language_info": {
   "codemirror_mode": {
    "name": "ipython",
    "version": 3
   },
   "file_extension": ".py",
   "mimetype": "text/x-python",
   "name": "python",
   "nbconvert_exporter": "python",
   "pygments_lexer": "ipython3",
   "version": "3.6.8"
  }
 },
 "nbformat": 4,
 "nbformat_minor": 2
}
