{
 "cells": [
  {
   "cell_type": "markdown",
   "metadata": {
    "slideshow": {
     "slide_type": "slide"
    }
   },
   "source": [
    "# <br/>\n",
    "\n",
    "\n",
    "# Random Search with MLflow\n",
    "\n",
    "\n",
    "# <br/>\n",
    "\n",
    "Presented par **Robin Allesiardo** de **PJD/CT_Foxtrot** (rallesiardo_at_solocal.com)\n",
    "\n",
    "during the **Solocal AI Community of Practice (SEP 10, 2019)**\n",
    "![solocal](ressources/foot_solocal.png)"
   ]
  },
  {
   "cell_type": "markdown",
   "metadata": {
    "slideshow": {
     "slide_type": "skip"
    }
   },
   "source": [
    "jupyter nbconvert \"random_search.ipynb\" --to slides"
   ]
  },
  {
   "cell_type": "code",
   "execution_count": 1,
   "metadata": {
    "slideshow": {
     "slide_type": "skip"
    }
   },
   "outputs": [
    {
     "data": {
      "text/html": [
       "<style>.CodeMirror{min-width:100% !important;}</style>"
      ],
      "text/plain": [
       "<IPython.core.display.HTML object>"
      ]
     },
     "execution_count": 1,
     "metadata": {},
     "output_type": "execute_result"
    }
   ],
   "source": [
    "from IPython.display import HTML\n",
    "HTML('''<style>.CodeMirror{min-width:100% !important;}</style>''')"
   ]
  },
  {
   "cell_type": "markdown",
   "metadata": {
    "slideshow": {
     "slide_type": "slide"
    }
   },
   "source": [
    "# What we will see\n",
    "\n",
    "* Mathematics around model selection\n",
    "* Why random-search is better than grid-search\n",
    "* How to implement a random-search\n",
    "* How to use MLflow to log results of a random-search"
   ]
  },
  {
   "cell_type": "markdown",
   "metadata": {
    "slideshow": {
     "slide_type": "slide"
    }
   },
   "source": [
    "# Risk Minimization\n",
    "\n",
    "Setting:\n",
    "* Two space of objects $X$ and $Y$\n",
    "* $\\pi \\in \\Pi$ such as $\\pi : X \\rightarrow Y$\n",
    "* Non-negative real-valued loss function $L(\\hat{y},y)$\n",
    "\n",
    "Goals:\n",
    "* Minimizing $R(\\pi)$ = ${\\bf E}$ $\\left[ L(\\pi(x),y) \\right]$\n",
    "* Finding $\\pi^*$ = $\\arg$ $\\min_{\\pi \\in \\Pi}$ $R(\\pi)$\n"
   ]
  },
  {
   "cell_type": "markdown",
   "metadata": {
    "slideshow": {
     "slide_type": "slide"
    }
   },
   "source": [
    "# Bias-Variance Tradeoff\n",
    "* $\\Pi_m$ is the space off all the models built with hyperparameters $m$\n",
    "* $\\pi_{m,t}$ is the model obtained after training the model $\\pi_{m,0}$ with hyperparameters $m$\n",
    "* $\\pi_m^* = \\arg \\min_{\\pi \\in \\Pi_m} R(\\pi)$\n",
    "\n",
    "<img src=\"ressources/tradeoff.png\" alt=\"tradeoff\" width=\"500\"/>\n"
   ]
  },
  {
   "cell_type": "markdown",
   "metadata": {
    "slideshow": {
     "slide_type": "slide"
    }
   },
   "source": [
    "# Empirical Risk Minimization\n",
    "\n",
    "Empirical Risk :\n",
    "$$R_\\text{emp}(\\pi) = \\frac{\\sum^n_{i = 1} L(\\pi(x_i),y_i) }{n} \\text{.}$$\n",
    "\n",
    "**McDiarmid inequalitie** for any $\\epsilon > 0$ : \n",
    "$$ P( |R_\\text{emp}(\\pi) - R(\\pi)| \\geq \\epsilon) \\leq \\text{exp}\\left( \\frac{2\\epsilon^2}{\\sum^n_{i=1} c^2} \\right)\\text{,}$$\n",
    "where $c > | L(\\pi(x_i),y_i) - L(\\pi(x_j),y_j) |$"
   ]
  },
  {
   "cell_type": "markdown",
   "metadata": {
    "slideshow": {
     "slide_type": "slide"
    }
   },
   "source": [
    "# Parameters Search\n",
    "\n",
    "<img src=\"ressources/randomsearch.png\" alt=\"randomsearch\" width=\"500\"/>\n",
    "\n",
    "From Random search for hyper-parameter optimization by James Bergstra and Yoshua Bengio, JMLR vol 13, 2019"
   ]
  },
  {
   "cell_type": "markdown",
   "metadata": {
    "slideshow": {
     "slide_type": "slide"
    }
   },
   "source": [
    "# A Classification Problem"
   ]
  },
  {
   "cell_type": "code",
   "execution_count": 2,
   "metadata": {
    "slideshow": {
     "slide_type": "-"
    }
   },
   "outputs": [],
   "source": [
    "import sklearn\n",
    "from sklearn import datasets\n",
    "digits = datasets.load_digits()\n",
    "\n",
    "from sklearn.model_selection import train_test_split\n",
    "x_train, x_test, y_train, y_test = train_test_split(digits.data, digits.target, test_size= 0.5, shuffle = True, random_state = 0)"
   ]
  },
  {
   "cell_type": "code",
   "execution_count": 3,
   "metadata": {
    "slideshow": {
     "slide_type": "fragment"
    }
   },
   "outputs": [
    {
     "data": {
      "text/plain": [
       "0.9410456062291435"
      ]
     },
     "execution_count": 3,
     "metadata": {},
     "output_type": "execute_result"
    }
   ],
   "source": [
    "from sklearn import linear_model\n",
    "\n",
    "param = {\n",
    "\"max_iter\" : 1000,\n",
    "\"tol\" : 1e-3,\n",
    "}\n",
    "# Définition du modèle\n",
    "sgd = linear_model.SGDClassifier(**param)\n",
    "\n",
    "# Optimisation des paramètres du modèle\n",
    "sgd = sgd.fit(x_train, y_train)\n",
    "\n",
    "sklearn.metrics.accuracy_score(sgd.predict(x_test), y_test)"
   ]
  },
  {
   "cell_type": "markdown",
   "metadata": {
    "slideshow": {
     "slide_type": "slide"
    }
   },
   "source": [
    "# Random Search"
   ]
  },
  {
   "cell_type": "code",
   "execution_count": 4,
   "metadata": {
    "slideshow": {
     "slide_type": "-"
    }
   },
   "outputs": [
    {
     "data": {
      "application/vnd.jupyter.widget-view+json": {
       "model_id": "07ef567ed22a4793a8e87dd0813a854a",
       "version_major": 2,
       "version_minor": 0
      },
      "text/plain": [
       "HBox(children=(IntProgress(value=0), HTML(value='')))"
      ]
     },
     "metadata": {},
     "output_type": "display_data"
    },
    {
     "name": "stdout",
     "output_type": "stream",
     "text": [
      "\n"
     ]
    },
    {
     "data": {
      "text/plain": [
       "0.9555061179087876"
      ]
     },
     "execution_count": 4,
     "metadata": {},
     "output_type": "execute_result"
    }
   ],
   "source": [
    "import numpy as np\n",
    "from tqdm import tqdm_notebook as tqdm\n",
    "\n",
    "best_model = None\n",
    "max_accuracy = 0\n",
    "\n",
    "for i in tqdm(range(100)):\n",
    "    \n",
    "    param = {\"max_iter\" : np.random.randint(2000,100000),\\\n",
    "             \"penalty\" : np.random.choice([\"none\", \"l2\", \"l1\", \"elasticnet\"]),\\\n",
    "             \"alpha\": np.random.uniform(0.00001,0.001),\\\n",
    "             \"tol\" : np.random.uniform(0,1e-3)}\n",
    "    \n",
    "    sgd = linear_model.SGDClassifier(**param)\n",
    "    sgd = sgd.fit(x_train, y_train)\n",
    "    \n",
    "    accuracy_test = sklearn.metrics.accuracy_score(y_test, sgd.predict(x_test))\n",
    "    \n",
    "    if accuracy_test > max_accuracy:\n",
    "        max_accuracy = accuracy_test\n",
    "        best_model = sgd\n",
    "        \n",
    "max_accuracy"
   ]
  },
  {
   "cell_type": "markdown",
   "metadata": {
    "slideshow": {
     "slide_type": "slide"
    }
   },
   "source": [
    "# Minimal MLflow logging\n",
    "\n",
    "```python\n",
    "import mlflow\n",
    "\n",
    "mlflow.set_experiment(\"Experiment\")\n",
    "\n",
    "    with mlflow.start_run():\n",
    "        \n",
    "        ...\n",
    "        \n",
    "        mlflow.log_param(\"param\", param_value)\n",
    "        \n",
    "        for i, ...\n",
    "        \n",
    "            #Do Stuff\n",
    "            ...\n",
    "\n",
    "            mlflow.log_metric(\"metric\", metric_value, i)\n",
    "            \n",
    "        artifact_path = mlflow.get_artifact_uri()\n",
    "\n",
    "```\n",
    "Then start the tracking server with `mlflow ui -p $port`"
   ]
  },
  {
   "cell_type": "markdown",
   "metadata": {
    "slideshow": {
     "slide_type": "slide"
    }
   },
   "source": [
    "<img src=\"ressources/mlflow1.png\" alt=\"mlflow1\" width=\"2500\"/>"
   ]
  },
  {
   "cell_type": "markdown",
   "metadata": {
    "slideshow": {
     "slide_type": "slide"
    }
   },
   "source": [
    "<img src=\"ressources/mlflow2.png\" alt=\"mlflow2\" width=\"2500\"/>"
   ]
  },
  {
   "cell_type": "code",
   "execution_count": 5,
   "metadata": {
    "slideshow": {
     "slide_type": "slide"
    }
   },
   "outputs": [
    {
     "data": {
      "application/vnd.jupyter.widget-view+json": {
       "model_id": "4b7f3bb1901d4571a3b8255f5c4091c2",
       "version_major": 2,
       "version_minor": 0
      },
      "text/plain": [
       "HBox(children=(IntProgress(value=0), HTML(value='')))"
      ]
     },
     "metadata": {},
     "output_type": "display_data"
    },
    {
     "name": "stdout",
     "output_type": "stream",
     "text": [
      "\n"
     ]
    }
   ],
   "source": [
    "import mlflow, json, os\n",
    "mlflow.set_experiment(\"Digits\")\n",
    "\n",
    "for i in tqdm(range(100)):\n",
    "    \n",
    "    with mlflow.start_run():\n",
    "\n",
    "        param = {\"max_iter\" : np.random.randint(2000,100000),\n",
    "                 \"penalty\" : np.random.choice([\"none\", \"l2\", \"l1\", \"elasticnet\"]),\n",
    "                 \"alpha\": np.random.uniform(0.00001,0.001),\n",
    "                 \"tol\" : np.random.uniform(0,1e-3)}\n",
    "\n",
    "        for i_key, i_value in param.items():\n",
    "            mlflow.log_param(i_key, i_value)\n",
    "\n",
    "        sgd = linear_model.SGDClassifier(**param)\n",
    "        sgd = sgd.fit(x_train, y_train)\n",
    "\n",
    "        mlflow.log_metric(\"acc_train\",\\\n",
    "                          sklearn.metrics.accuracy_score(y_train, sgd.predict(x_train)))\n",
    "        mlflow.log_metric(\"acc_test\",\\\n",
    "                          sklearn.metrics.accuracy_score(y_test, sgd.predict(x_test)))\n",
    "\n",
    "        artifact_path = mlflow.get_artifact_uri()\n",
    "        artifact_path = artifact_path.replace(\"%20\", \" \").replace(\"file://\", \"\")\n",
    "        \n",
    "        from joblib import dump, load\n",
    "        dump(sgd, os.path.join(artifact_path, \"linear.w\"))\n",
    "        with open(os.path.join(artifact_path, \"param.json\"), 'w') as f:\n",
    "            json.dump(param, f)"
   ]
  },
  {
   "cell_type": "code",
   "execution_count": 6,
   "metadata": {
    "slideshow": {
     "slide_type": "slide"
    }
   },
   "outputs": [
    {
     "data": {
      "text/html": [
       "<div>\n",
       "<style scoped>\n",
       "    .dataframe tbody tr th:only-of-type {\n",
       "        vertical-align: middle;\n",
       "    }\n",
       "\n",
       "    .dataframe tbody tr th {\n",
       "        vertical-align: top;\n",
       "    }\n",
       "\n",
       "    .dataframe thead th {\n",
       "        text-align: right;\n",
       "    }\n",
       "</style>\n",
       "<table border=\"1\" class=\"dataframe\">\n",
       "  <thead>\n",
       "    <tr style=\"text-align: right;\">\n",
       "      <th></th>\n",
       "      <th>run_id</th>\n",
       "      <th>experiment_id</th>\n",
       "      <th>status</th>\n",
       "      <th>artifact_uri</th>\n",
       "      <th>metrics.acc_train</th>\n",
       "      <th>metrics.acc_test</th>\n",
       "      <th>params.tol</th>\n",
       "      <th>params.alpha</th>\n",
       "      <th>params.penalty</th>\n",
       "      <th>params.max_iter</th>\n",
       "      <th>tags.mlflow.user</th>\n",
       "      <th>tags.mlflow.source.type</th>\n",
       "      <th>tags.mlflow.source.name</th>\n",
       "    </tr>\n",
       "  </thead>\n",
       "  <tbody>\n",
       "    <tr>\n",
       "      <th>0</th>\n",
       "      <td>a55959a22dc849d38df5a39af67ed116</td>\n",
       "      <td>1</td>\n",
       "      <td>FINISHED</td>\n",
       "      <td>file:///Users/rallesiardo/OneDrive%20-%20Pages...</td>\n",
       "      <td>0.985523</td>\n",
       "      <td>0.946607</td>\n",
       "      <td>0.0007339435714911382</td>\n",
       "      <td>0.0008538356754106561</td>\n",
       "      <td>none</td>\n",
       "      <td>21146</td>\n",
       "      <td>rallesiardo</td>\n",
       "      <td>LOCAL</td>\n",
       "      <td>/Library/Frameworks/Python.framework/Versions/...</td>\n",
       "    </tr>\n",
       "    <tr>\n",
       "      <th>1</th>\n",
       "      <td>5737a49311c34b6f982af5c08684a451</td>\n",
       "      <td>1</td>\n",
       "      <td>FINISHED</td>\n",
       "      <td>file:///Users/rallesiardo/OneDrive%20-%20Pages...</td>\n",
       "      <td>0.962138</td>\n",
       "      <td>0.923248</td>\n",
       "      <td>0.0006091422884751423</td>\n",
       "      <td>0.0001344700195589645</td>\n",
       "      <td>l2</td>\n",
       "      <td>93658</td>\n",
       "      <td>rallesiardo</td>\n",
       "      <td>LOCAL</td>\n",
       "      <td>/Library/Frameworks/Python.framework/Versions/...</td>\n",
       "    </tr>\n",
       "    <tr>\n",
       "      <th>2</th>\n",
       "      <td>bebea13f4d204a32ac410da89fe84144</td>\n",
       "      <td>1</td>\n",
       "      <td>FINISHED</td>\n",
       "      <td>file:///Users/rallesiardo/OneDrive%20-%20Pages...</td>\n",
       "      <td>0.991091</td>\n",
       "      <td>0.938821</td>\n",
       "      <td>0.0006657589132622829</td>\n",
       "      <td>0.000892890427019747</td>\n",
       "      <td>elasticnet</td>\n",
       "      <td>93896</td>\n",
       "      <td>rallesiardo</td>\n",
       "      <td>LOCAL</td>\n",
       "      <td>/Library/Frameworks/Python.framework/Versions/...</td>\n",
       "    </tr>\n",
       "    <tr>\n",
       "      <th>3</th>\n",
       "      <td>cd8957bd31e648b38721c5c617a79998</td>\n",
       "      <td>1</td>\n",
       "      <td>FINISHED</td>\n",
       "      <td>file:///Users/rallesiardo/OneDrive%20-%20Pages...</td>\n",
       "      <td>0.988864</td>\n",
       "      <td>0.947720</td>\n",
       "      <td>0.0008679598060894229</td>\n",
       "      <td>0.0005883256391608072</td>\n",
       "      <td>none</td>\n",
       "      <td>83843</td>\n",
       "      <td>rallesiardo</td>\n",
       "      <td>LOCAL</td>\n",
       "      <td>/Library/Frameworks/Python.framework/Versions/...</td>\n",
       "    </tr>\n",
       "    <tr>\n",
       "      <th>4</th>\n",
       "      <td>615b89bdf8624d8386d557a0630a0662</td>\n",
       "      <td>1</td>\n",
       "      <td>FINISHED</td>\n",
       "      <td>file:///Users/rallesiardo/OneDrive%20-%20Pages...</td>\n",
       "      <td>0.992205</td>\n",
       "      <td>0.953281</td>\n",
       "      <td>0.0009000008393179844</td>\n",
       "      <td>0.0002502397717589587</td>\n",
       "      <td>none</td>\n",
       "      <td>48340</td>\n",
       "      <td>rallesiardo</td>\n",
       "      <td>LOCAL</td>\n",
       "      <td>/Library/Frameworks/Python.framework/Versions/...</td>\n",
       "    </tr>\n",
       "  </tbody>\n",
       "</table>\n",
       "</div>"
      ],
      "text/plain": [
       "                             run_id experiment_id    status  \\\n",
       "0  a55959a22dc849d38df5a39af67ed116             1  FINISHED   \n",
       "1  5737a49311c34b6f982af5c08684a451             1  FINISHED   \n",
       "2  bebea13f4d204a32ac410da89fe84144             1  FINISHED   \n",
       "3  cd8957bd31e648b38721c5c617a79998             1  FINISHED   \n",
       "4  615b89bdf8624d8386d557a0630a0662             1  FINISHED   \n",
       "\n",
       "                                        artifact_uri  metrics.acc_train  \\\n",
       "0  file:///Users/rallesiardo/OneDrive%20-%20Pages...           0.985523   \n",
       "1  file:///Users/rallesiardo/OneDrive%20-%20Pages...           0.962138   \n",
       "2  file:///Users/rallesiardo/OneDrive%20-%20Pages...           0.991091   \n",
       "3  file:///Users/rallesiardo/OneDrive%20-%20Pages...           0.988864   \n",
       "4  file:///Users/rallesiardo/OneDrive%20-%20Pages...           0.992205   \n",
       "\n",
       "   metrics.acc_test             params.tol           params.alpha  \\\n",
       "0          0.946607  0.0007339435714911382  0.0008538356754106561   \n",
       "1          0.923248  0.0006091422884751423  0.0001344700195589645   \n",
       "2          0.938821  0.0006657589132622829   0.000892890427019747   \n",
       "3          0.947720  0.0008679598060894229  0.0005883256391608072   \n",
       "4          0.953281  0.0009000008393179844  0.0002502397717589587   \n",
       "\n",
       "  params.penalty params.max_iter tags.mlflow.user tags.mlflow.source.type  \\\n",
       "0           none           21146      rallesiardo                   LOCAL   \n",
       "1             l2           93658      rallesiardo                   LOCAL   \n",
       "2     elasticnet           93896      rallesiardo                   LOCAL   \n",
       "3           none           83843      rallesiardo                   LOCAL   \n",
       "4           none           48340      rallesiardo                   LOCAL   \n",
       "\n",
       "                             tags.mlflow.source.name  \n",
       "0  /Library/Frameworks/Python.framework/Versions/...  \n",
       "1  /Library/Frameworks/Python.framework/Versions/...  \n",
       "2  /Library/Frameworks/Python.framework/Versions/...  \n",
       "3  /Library/Frameworks/Python.framework/Versions/...  \n",
       "4  /Library/Frameworks/Python.framework/Versions/...  "
      ]
     },
     "execution_count": 6,
     "metadata": {},
     "output_type": "execute_result"
    }
   ],
   "source": [
    "df = mlflow.search_runs()\n",
    "df.head()"
   ]
  },
  {
   "cell_type": "code",
   "execution_count": 9,
   "metadata": {
    "slideshow": {
     "slide_type": "slide"
    }
   },
   "outputs": [
    {
     "data": {
      "image/png": "[encoded data removed]",
      "text/plain": [
       "<Figure size 432x288 with 1 Axes>"
      ]
     },
     "metadata": {
      "needs_background": "light"
     },
     "output_type": "display_data"
    }
   ],
   "source": [
    "plot = df[\"metrics.acc_test\"].hist().plot()"
   ]
  },
  {
   "cell_type": "code",
   "execution_count": 8,
   "metadata": {
    "slideshow": {
     "slide_type": "slide"
    }
   },
   "outputs": [
    {
     "data": {
      "text/plain": [
       "run_id                                      25e4a00c840c4bad86d43eb91dc2dee3\n",
       "experiment_id                                                              1\n",
       "status                                                              FINISHED\n",
       "artifact_uri               file:///Users/rallesiardo/OneDrive%20-%20Pages...\n",
       "metrics.acc_train                                                   0.991091\n",
       "metrics.acc_test                                                    0.957731\n",
       "params.tol                                             0.0007230895043225555\n",
       "params.alpha                                           0.0004112291559069391\n",
       "params.penalty                                                            l1\n",
       "params.max_iter                                                        83810\n",
       "tags.mlflow.user                                                 rallesiardo\n",
       "tags.mlflow.source.type                                                LOCAL\n",
       "tags.mlflow.source.name    /Library/Frameworks/Python.framework/Versions/...\n",
       "Name: 40, dtype: object"
      ]
     },
     "execution_count": 8,
     "metadata": {},
     "output_type": "execute_result"
    }
   ],
   "source": [
    "best_idx = df[\"metrics.acc_test\"].idxmax()\n",
    "\n",
    "df.iloc[best_idx]"
   ]
  },
  {
   "cell_type": "markdown",
   "metadata": {
    "slideshow": {
     "slide_type": "slide"
    }
   },
   "source": [
    "## Don't train on your test!\n",
    "* Don't forget that the Random Search is somewhat part of your training\n",
    "* Test your final model with data not used during the random search"
   ]
  }
 ],
 "metadata": {
  "celltoolbar": "Diaporama",
  "kernelspec": {
   "display_name": "Python 3",
   "language": "python",
   "name": "python3"
  },
  "language_info": {
   "codemirror_mode": {
    "name": "ipython",
    "version": 3
   },
   "file_extension": ".py",
   "mimetype": "text/x-python",
   "name": "python",
   "nbconvert_exporter": "python",
   "pygments_lexer": "ipython3",
   "version": "3.6.8"
  }
 },
 "nbformat": 4,
 "nbformat_minor": 2
}
